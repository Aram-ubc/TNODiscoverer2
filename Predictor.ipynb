{
 "cells": [
  {
   "cell_type": "markdown",
   "id": "b93f1ca9-00e6-466b-a7b4-68f14dfd93a3",
   "metadata": {},
   "source": [
    "# ML Predictor for Binary Kuiper Belt Object Detection and Position\n",
    "\n",
    "**Author:** Aram Lee\n",
    "**Date:** 2025-03-11\n",
    "**File Name:** Predictor.ipynb\n",
    "\n",
    "### [Description]\n",
    "This notebook estimates the likelihood of a TNO being present in sub-images and determines its position and magnitude. The first parts include the label extracting to analyze the performance of this method, but there will be no labels for actual search of TNOs. For the application, skip to the \"tensorflow.keras.models.load_model\" part.\n",
    "\n",
    "### Package requirements \n",
    "- numpy: 1.26.4\n",
    "- astropy: 6.1.0\n",
    "- scikit-learn: 1.1.1 (sklearn)\n",
    "- tensorflow: 2.9.1\n",
    "- keras: 2.3.0\n",
    "- matplotlib: 3.8.3\n",
    "\n",
    "### [Workflow]  \n",
    "\n",
    "Steps 1-3 are for training the model, and steps 4-6 are for using the model to detect TNOs.\n",
    "\n",
    "|Step|File|Input|Output|Purpose|\n",
    "|-|-|-|-|-|\n",
    "|1|ImageCutter.ipynb|.fits (with artificial moving objects), .plantlist (artificial objects info)| .npy|Extract sub-images for training|\n",
    "|2|Concatenator.ipynb|.npy (sub-images from ImageCutter)|.npy|Prepare dataset for training|\n",
    "|3|Trainer.ipynb|.npy (dataset from Concatenator), .npy (target information)|.h5 (trained CNN models)|Train the model|\n",
    "|-|-|-|-|-|\n",
    "|4|ImageCutter.ipynb|.fits (without artificial moving objects)|.npy|Extract sub-images for detection|\n",
    "|5|Predictor.ipynb **(Here)**|.npy (sub-images from ImageCutter), .npy (target info), .h5 (model)|.npy|Apply trained model to detect objects|\n",
    "|6a|Link_sources_to_objects.py|.npy (classification and regression output from Predictor)|.npy|Detect moving objects (linear fitting method)|\n",
    "|6b|CandidateFinder.ipynb|.npy (classification output from Predictor), .npy (sub-images, target info)|.csv|Detect moving objects (scoring method)|"
   ]
  },
  {
   "cell_type": "code",
   "execution_count": 5,
   "id": "1cd2ec2f-16f7-4629-a8dc-d746068bf580",
   "metadata": {},
   "outputs": [
    {
     "name": "stdout",
     "output_type": "stream",
     "text": [
      "Num GPUs Available:  0\n"
     ]
    }
   ],
   "source": [
    "import numpy as np\n",
    "\n",
    "import sklearn\n",
    "import tensorflow\n",
    "from tensorflow.keras.callbacks import EarlyStopping\n",
    "\n",
    "from matplotlib import pyplot as plt\n",
    "import matplotlib.image as mpimg\n",
    "\n",
    "# Tensorflow is used to build CNNs, train them, and analyze the performance.\n",
    "import tensorflow\n",
    "from tensorflow.keras.models import load_model\n",
    "from tensorflow.keras.callbacks import EarlyStopping\n",
    "from tensorflow.keras.models import Model\n",
    "from tensorflow.keras.layers import Dense, Dropout, BatchNormalization\n",
    "from tensorflow.keras.layers import Flatten\n",
    "from tensorflow.compat.v1 import ConfigProto\n",
    "from tensorflow.compat.v1 import InteractiveSession\n",
    "from tensorflow.keras.metrics import Recall\n",
    "from tensorflow.keras.metrics import Precision\n",
    "# tensorflow.compat.v1.keras.layers.enable_v2_dtype_behavior()\n",
    "tensorflow.keras.mixed_precision.set_global_policy('mixed_float16')\n",
    "\n",
    "config = ConfigProto()\n",
    "config.gpu_options.allow_growth = True\n",
    "session = InteractiveSession(config=config)\n",
    "\n",
    "# Tensorflow keep the channels AFTER the rows and columns. We need to change it to channels first.\n",
    "tensorflow.keras.backend.set_image_data_format('channels_first')\n",
    "\n",
    "from astropy.visualization import ZScaleInterval,ImageNormalize,SqrtStretch\n",
    "\n",
    "print(\"Num GPUs Available: \", len(tensorflow.config.experimental.list_physical_devices('GPU')))\n",
    "\n",
    "def string_to_expnum(string, start=-5, end=-3, offset=13):\n",
    "    return int(string[start:end])-offset"
   ]
  },
  {
   "cell_type": "markdown",
   "id": "42fe0806-0998-4821-a436-db137d82fe39",
   "metadata": {},
   "source": [
    "The following few cells preprocess a sub-image set with artificial TNOs for analysis. Skip to the next markdown if using sub-images without labels."
   ]
  },
  {
   "cell_type": "code",
   "execution_count": 6,
   "id": "5ad1c6fa-8106-4a1e-addf-bc429bda7860",
   "metadata": {},
   "outputs": [],
   "source": [
    "# load the numpy array of sub-images to find TNOs\n",
    "\n",
    "ch = '08'\n",
    "img = np.load(f'testsets/inp_ch{ch}.npy',allow_pickle=True)\n",
    "tar = np.load(f'testsets/tar_ch{ch}.npy',allow_pickle=True)"
   ]
  },
  {
   "cell_type": "code",
   "execution_count": 12,
   "id": "d1a87179-0433-4e61-98a8-3a6b22b7f9f9",
   "metadata": {},
   "outputs": [
    {
     "data": {
      "text/plain": [
       "(250008, 8)"
      ]
     },
     "execution_count": 12,
     "metadata": {},
     "output_type": "execute_result"
    }
   ],
   "source": [
    "np.shape(tar)"
   ]
  },
  {
   "cell_type": "code",
   "execution_count": 19,
   "id": "51778e47-3b49-49c4-946f-df5fcef1e6b0",
   "metadata": {
    "tags": []
   },
   "outputs": [
    {
     "name": "stdout",
     "output_type": "stream",
     "text": [
      "counter11: 81120, counter10: 22077, counter01: 21807, counter00: 125004\n"
     ]
    }
   ],
   "source": [
    "# Change the tar into tar_bin and tar_posmag.\n",
    "\n",
    "# Extract the first two columns\n",
    "tar_bin = tar[:, :2].astype(\"float32\")\n",
    "\n",
    "# Initialize counters and lists\n",
    "counter11 = counter10 = counter01 = counter00 = 0\n",
    "tar_bin_single, tar_bin_pos_num, tar_bin_neg_num = [], [], []\n",
    "num11, num10, num01, num00 = [], [], [], []\n",
    "\n",
    "# Process binary classifications\n",
    "for i, (b0, b1) in enumerate(tar_bin):\n",
    "    if b0 == 1 and b1 == 1:\n",
    "        counter11 += 1\n",
    "        tar_bin_single.append(1)\n",
    "        tar_bin_pos_num.append(i)\n",
    "        num11.append(i)\n",
    "    elif b0 == 1 and b1 == 0:\n",
    "        counter10 += 1\n",
    "        tar_bin_single.append(1)\n",
    "        tar_bin_pos_num.append(i)\n",
    "        num10.append(i)\n",
    "    elif b0 == 0 and b1 == 1:\n",
    "        counter01 += 1\n",
    "        tar_bin_single.append(1)\n",
    "        tar_bin_pos_num.append(i)\n",
    "        num01.append(i)\n",
    "    elif b0 == 0 and b1 == 0 and tar[i,6][7] == tar[i,7][7]:\n",
    "        counter00 += 1\n",
    "        tar_bin_single.append(0)\n",
    "        tar_bin_neg_num.append(i)\n",
    "        num00.append(i)\n",
    "\n",
    "tar_bin_single = np.array(tar_bin_single, dtype=np.float32)\n",
    "        \n",
    "# Print binary results\n",
    "print(f\"counter11: {counter11}, counter10: {counter10}, counter01: {counter01}, counter00: {counter00}\")\n",
    "\n",
    "# Extract tar_posmag\n",
    "tar_posmag = np.array([\n",
    "    [t[2][0], t[2][1], t[3][0], t[3][1], t[6][7], t[7][7]]\n",
    "    for _, t in enumerate(tar)\n",
    "])"
   ]
  },
  {
   "cell_type": "code",
   "execution_count": 43,
   "id": "28bcdce1-f40c-455e-a738-4a60bb538303",
   "metadata": {},
   "outputs": [],
   "source": [
    "# Make the index to search on, by limiting the maximum magnitude.\n",
    "\n",
    "def indexmaker(maxmag, minmag=0):\n",
    "    num00, num11, num10, num01, num1x, num0x = [], [], [], [], [], []\n",
    "    \n",
    "    # Loop through tar once and categorize indices. The magnitude value is -1 when there is no object in the sub-image.\n",
    "    for i, row in enumerate(tar):\n",
    "        mag1st, mag2nd = row[6][7], row[7][7]\n",
    "        \n",
    "        if mag1st == -1 and mag2nd == -1:\n",
    "            num00.append(i)\n",
    "        elif minmag < mag1st <= maxmag and mag2nd == -1:\n",
    "            num10.append(i)\n",
    "        elif mag1st == -1 and minmag < mag2nd <= maxmag:\n",
    "            num01.append(i)\n",
    "        elif minmag < mag1st <= maxmag and minmag < mag2nd <= maxmag and mag1st == mag2nd:\n",
    "            num11.append(i)\n",
    "        \n",
    "        if minmag < mag1st <= maxmag:\n",
    "            num1x.append(i)\n",
    "        if mag1st == -1:\n",
    "            num0x.append(i)\n",
    "    \n",
    "    # Convert lists to numpy arrays\n",
    "    numset = [np.array(lst) for lst in [num11, num10, num01, num00, num1x, num0x]]\n",
    "\n",
    "    # Calculate counters\n",
    "    counter11, counter10, counter01, counter00 = map(len, [num11, num10, num01, num00])\n",
    "    counter1x, counter0x = len(num1x), len(num0x)\n",
    "    \n",
    "    # Compute totals\n",
    "    numberof1 = 2 * counter11 + counter10 + counter01\n",
    "    numberof0 = 2 * counter00 + counter10 + counter01\n",
    "    numint = [counter11, counter10, counter01, counter00, numberof1, numberof0]\n",
    "    \n",
    "    # Print results\n",
    "    print(\"Counts of different index categories:\")\n",
    "    print(f\"  - Binary classification counts (11, 10, 01, 00): {counter11, counter10, counter01, counter00}\")\n",
    "    print(f\"  - Counts based on the first sub-image (1x, 0x): {counter1x, counter0x}\")\n",
    "    print(f\"  - Total occurrence counts regardless of whether they are the first or second sub-image: {numberof1, numberof0}\")\n",
    "\n",
    "    return numint, numset"
   ]
  },
  {
   "cell_type": "code",
   "execution_count": 44,
   "id": "3b8b9355-5d01-4f18-8ba3-67ff59396b37",
   "metadata": {},
   "outputs": [
    {
     "name": "stdout",
     "output_type": "stream",
     "text": [
      "Counts of different index categories:\n",
      "  - Binary classification counts (11, 10, 01, 00): (78610, 22077, 21807, 125004)\n",
      "  - Counts based on the first sub-image (1x, 0x): (103197, 146811)\n",
      "  - Total occurrence counts regardless of whether they are the first or second sub-image: (201104, 293892)\n"
     ]
    }
   ],
   "source": [
    "# Change the maxmag of indexmaker as you want\n",
    "mag = 27\n",
    "numset = indexmaker(mag)"
   ]
  },
  {
   "cell_type": "code",
   "execution_count": 45,
   "id": "135bce1c-e0cd-45e7-9c9c-9577d516f3c5",
   "metadata": {},
   "outputs": [],
   "source": [
    "# Extract the indices for testing\n",
    "numstr = np.concatenate((numset[1][0], numset[1][1], numset[1][2], numset[1][3]), axis=None).astype(int)"
   ]
  },
  {
   "cell_type": "code",
   "execution_count": 46,
   "id": "fa2d0541-2b7e-49fd-b446-bf161a604cec",
   "metadata": {},
   "outputs": [],
   "source": [
    "# Extract sub-images to test\n",
    "Image_test = img[numstr]\n",
    "Tar_bin_test = tar_bin[numstr]\n",
    "Tar_posmag_test = tar_posmag[numstr]\n",
    "Tar_test = tar[numstr]"
   ]
  },
  {
   "cell_type": "code",
   "execution_count": 41,
   "id": "f9f9108d-3235-4d7f-99ac-567365be872c",
   "metadata": {},
   "outputs": [],
   "source": [
    "# np.save(f'Split_files/Ch{ch}{mag}_Image_test.npy',Image_test)\n",
    "# np.save(f'Split_files/Ch{ch}{mag}_Tar_bin_test.npy',Tar_bin_test)\n",
    "# np.save(f'Split_files/Ch{ch}{mag}_Tar_posmag_test.npy',Tar_posmag_test)\n",
    "# np.save(f'Split_files/Ch{ch}{mag}_Tar_test.npy',Tar_test)"
   ]
  },
  {
   "cell_type": "code",
   "execution_count": 51,
   "id": "2a3fc1a6-1caf-448f-806f-f8c1c6385c02",
   "metadata": {},
   "outputs": [],
   "source": [
    "Tar_pl_test = np.array([e[6] for i, e in enumerate(Tar_test)])\n",
    "Tar_mag_test = np.array([e[6][7] for i, e in enumerate(Tar_test)])"
   ]
  },
  {
   "cell_type": "markdown",
   "id": "7d1ca26e-77e5-4405-b8c7-2a44dcbc9c11",
   "metadata": {},
   "source": [
    "For unlabeled images (for the actual application of this method), start from this cell."
   ]
  },
  {
   "cell_type": "code",
   "execution_count": 52,
   "id": "b2c674cd-b39b-410e-94f3-28903150b9e6",
   "metadata": {},
   "outputs": [
    {
     "name": "stdout",
     "output_type": "stream",
     "text": [
      "WARNING:tensorflow:SavedModel saved prior to TF 2.5 detected when loading Keras model. Please ensure that you are saving the model with model.save() or tf.keras.models.save_model(), *NOT* tf.saved_model.save(). To confirm, there should be a file named \"keras_metadata.pb\" in the SavedModel directory.\n",
      "WARNING:tensorflow:SavedModel saved prior to TF 2.5 detected when loading Keras model. Please ensure that you are saving the model with model.save() or tf.keras.models.save_model(), *NOT* tf.saved_model.save(). To confirm, there should be a file named \"keras_metadata.pb\" in the SavedModel directory.\n"
     ]
    }
   ],
   "source": [
    "# Load the trained CNN models: MobileNet_Ch051020M25_classification and MobileNet_Ch051020M25_regression\n",
    "model_cls = tensorflow.keras.models.load_model('models/MobileNet_Ch051020M25_classification')\n",
    "model_rgs = tensorflow.keras.models.load_model('models/MobileNet_Ch051020M25_regression')"
   ]
  },
  {
   "cell_type": "code",
   "execution_count": 7,
   "id": "04763823-d6f7-4ab0-8fd5-22f4eb1d5766",
   "metadata": {},
   "outputs": [],
   "source": [
    "# ch = '08'\n",
    "# mag = ''\n",
    "# Image_test = np.load(f'Split_files/C{ch}{mag}_Image_test.npy', allow_pickle=True)\n",
    "# Tar_bin_test = np.load(f'Split_files/C{ch}{mag}_Tar_bin_test.npy', allow_pickle=True)\n",
    "# Tar_posmag_test = np.load(f'Split_files/C{ch}{mag}_Tar_posmag_test.npy', allow_pickle=True)\n",
    "# Tar_test = np.load(f'Split_files/C{ch}{mag}_Tar_test.npy', allow_pickle=True)"
   ]
  },
  {
   "cell_type": "code",
   "execution_count": 8,
   "id": "1e222214-ef50-41b7-b218-020332d11491",
   "metadata": {},
   "outputs": [],
   "source": [
    "# Perform classification and regression on sub-images to predict the presence of a moving object, its position, and its magnitude\n",
    "\n",
    "# Predict the class label for the test images\n",
    "pred_bin = model_cls.predict(Image_test)\n",
    "print(\"classification done\")\n",
    "\n",
    "# Predict the position and magnitude for the test images\n",
    "pred_posmag = model_rgs.predict(Image_test)\n",
    "print(\"regression done\")\n",
    "\n",
    "# Separate the output into the position and the magnitude\n",
    "pred_pos = pred_posmag[0]\n",
    "pred_mag = pred_posmag[1]"
   ]
  },
  {
   "cell_type": "code",
   "execution_count": 9,
   "id": "98621828-62d3-4a43-954a-64dae958bc00",
   "metadata": {},
   "outputs": [],
   "source": [
    "# np.save(f'Results/pred_bin_Ch{ch}.npy', pred_bin, allow_pickle=True)\n",
    "# np.save(f'Results/pred_pos_Ch{ch}.npy', pred_pos, allow_pickle=True)\n",
    "# np.save(f'Results/pred_mag_Ch{ch}.npy', pred_mag, allow_pickle=True)"
   ]
  },
  {
   "cell_type": "code",
   "execution_count": 3,
   "id": "45eed928-1d38-43b3-b1dd-1b8435e9304f",
   "metadata": {},
   "outputs": [],
   "source": [
    "# pred_bin = np.load(f'Results/pred_bin_Ch{ch}_grid.npy', allow_pickle=True)\n",
    "# pred_pos = np.load(f'Results/pred_pos_Ch{ch}_grid.npy', allow_pickle=True)\n",
    "# pred_mag = np.load(f'Results/pred_mag_Ch{ch}_grid.npy', allow_pickle=True)"
   ]
  },
  {
   "cell_type": "markdown",
   "id": "4c70c176-7c1e-47e7-81bc-5d90b0607bb6",
   "metadata": {},
   "source": [
    "Predicting is done. The following cells are for optional analytical purposes."
   ]
  },
  {
   "cell_type": "code",
   "execution_count": 33,
   "id": "789b6722-e3fc-4f64-9ee7-ac856486e2f9",
   "metadata": {},
   "outputs": [],
   "source": [
    "# An example of making a balanced analysis set\n",
    "\n",
    "import pandas as pd\n",
    "from math import ceil\n",
    "df = pd.DataFrame(Tar_posmag_test, columns = ['x1', 'y1', 'x2', 'y2', 'm1', 'm2'])\n",
    "dft11 = df.index[((df.m1 <= 25) & (df.m1 > 0) & (df.m2 <= 25) & (df.m2 > 0))].tolist()\n",
    "dft10 = df.index[((df.m1 <= 25) & (df.m2 == -1))].tolist()[0:ceil(len(dft11)/4)]\n",
    "dft01 = df.index[((df.m1 == -1) & (df.m2 <= 25))].tolist()[0:ceil(len(dft11)/4)]\n",
    "dft00 = df.index[((df.m1 == -1) & (df.m2 == -1))].tolist()[0:len(dft11)]\n",
    "dfindex = np.concatenate((dft11,dft10,dft01,dft00))"
   ]
  },
  {
   "cell_type": "code",
   "execution_count": 34,
   "id": "53220764-367d-4106-87c4-4ffbbed915fd",
   "metadata": {},
   "outputs": [
    {
     "data": {
      "image/png": "[encoded data removed]",
      "text/plain": [
       "<Figure size 432x288 with 2 Axes>"
      ]
     },
     "metadata": {
      "needs_background": "light"
     },
     "output_type": "display_data"
    },
    {
     "name": "stdout",
     "output_type": "stream",
     "text": [
      "(array([0.78436529, 0.87721222]), array([0.89444446, 0.75410274]), array([0.83579594, 0.81101216]), array([553898, 553898]))\n"
     ]
    }
   ],
   "source": [
    "# An example of confusion matrix\n",
    "\n",
    "import scikitplot as skplt\n",
    "import sklearn\n",
    "skplt.metrics.plot_confusion_matrix(Tar_bin_test[dfindex].flatten(), np.round(pred_bin[dfindex]).flatten(), normalize=False)\n",
    "plt.show()\n",
    "print(sklearn.metrics.precision_recall_fscore_support(Tar_bin_test[dfindex].flatten(), np.round(pred_bin[dfindex]).flatten()))"
   ]
  },
  {
   "cell_type": "code",
   "execution_count": 145,
   "id": "b53b668e-40b4-49a1-b5b2-267dbb61fa19",
   "metadata": {},
   "outputs": [],
   "source": [
    "# Displaying a false positive sample in the next cell.\n",
    "# In our study, a false positive occurs when the label is [0, 0], meaning it may contain a non-artificial moving source.\n",
    "\n",
    "pp, pn, np, nn = [], [], [], []\n",
    "pp_fp = []\n",
    "\n",
    "for i, e in enumerate(pred_bin):\n",
    "    pair = e[:2].tolist()\n",
    "    if pair == [1, 1]:\n",
    "        pp.append(i)\n",
    "        if Tar_test[i][:2].tolist() == [0, 0]:\n",
    "            pp_fp.append(i)\n",
    "    elif pair == [1, 0]:\n",
    "        pn.append(i)\n",
    "    elif pair == [0, 1]:\n",
    "        np.append(i)\n",
    "    elif pair == [0, 0]:\n",
    "        nn.append(i)"
   ]
  },
  {
   "cell_type": "code",
   "execution_count": 152,
   "id": "83c07512-878f-4893-ae30-fa9078dbce8e",
   "metadata": {},
   "outputs": [
    {
     "name": "stdout",
     "output_type": "stream",
     "text": [
      "0 0\n",
      "1.0 1.0\n",
      "[-1, -1, -1, -1, -1, -1, -1, -1, -1, -1, -1] [-1, -1, -1, -1, -1, -1, -1, -1, -1, -1, -1]\n"
     ]
    },
    {
     "data": {
      "image/png": "[encoded data removed]",
      "text/plain": [
       "<Figure size 576x576 with 2 Axes>"
      ]
     },
     "metadata": {
      "needs_background": "light"
     },
     "output_type": "display_data"
    }
   ],
   "source": [
    "# An example of a pair of sub-images, and its predicted binary classification and the predicted position of a moving object on the image.\n",
    "\n",
    "n_pic= pp_fp[0]\n",
    "fig = plt.figure(figsize=(8, 8))\n",
    "\n",
    "plt.subplot(2, 2, 1)\n",
    "norm0 = ImageNormalize(Image_test[n_pic,0], interval=ZScaleInterval(), stretch=SqrtStretch())\n",
    "plt.imshow(Image_test[n_pic,0],norm=norm0)\n",
    "if Tar_posmag_test[n_pic,0] !=-1:\n",
    "    plt.scatter(Tar_posmag_test[n_pic,0],Tar_posmag_test[n_pic,1],marker='o', s=700, facecolors='none', edgecolors='red', lw = 2)\n",
    "plt.scatter(pred_pos[n_pic,0],pred_pos[n_pic,1],marker='s', s=700, facecolors='none', edgecolors='orange', lw = 2)\n",
    "\n",
    "plt.subplot(2, 2, 2)\n",
    "norm1 = ImageNormalize(Image_test[n_pic,1], interval=ZScaleInterval(), stretch=SqrtStretch())\n",
    "plt.imshow(Image_test[n_pic,1],norm=norm1)\n",
    "if Tar_posmag_test[n_pic,0] !=-1:\n",
    "    plt.scatter(Tar_posmag_test[n_pic,2],Tar_posmag_test[n_pic,3],marker='o', s=700, facecolors='none', edgecolors='red', lw = 2)\n",
    "plt.scatter(pred_pos[n_pic,2],pred_pos[n_pic,3],marker='s', s=700, facecolors='none', edgecolors='orange', lw = 2)\n",
    "\n",
    "print(Tar_test[n_pic][0], Tar_test[n_pic][1])\n",
    "print(pred_bin[n_pic][0], pred_bin[n_pic][1])\n",
    "print(Tar_test[n_pic][6], Tar_test[n_pic][7])\n",
    "plt.tight_layout()\n",
    "# plt.savefig('Figures/nn.png', dpi=300)"
   ]
  }
 ],
 "metadata": {
  "kernelspec": {
   "display_name": "Python 3 (ipykernel)",
   "language": "python",
   "name": "python3"
  },
  "language_info": {
   "codemirror_mode": {
    "name": "ipython",
    "version": 3
   },
   "file_extension": ".py",
   "mimetype": "text/x-python",
   "name": "python",
   "nbconvert_exporter": "python",
   "pygments_lexer": "ipython3",
   "version": "3.10.5"
  }
 },
 "nbformat": 4,
 "nbformat_minor": 5
}
